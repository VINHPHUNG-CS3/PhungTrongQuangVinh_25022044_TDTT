{
 "cells": [
  {
   "cell_type": "code",
   "execution_count": 1,
   "id": "3e15647a",
   "metadata": {},
   "outputs": [
    {
     "name": "stdout",
     "output_type": "stream",
     "text": [
      "3 5\n"
     ]
    }
   ],
   "source": [
    "#W3A2\n",
    "a = int(input())\n",
    "b = int(input())\n",
    "a = a^b\n",
    "b = a^b\n",
    "a = a^b\n",
    "print(a,b)"
   ]
  },
  {
   "cell_type": "code",
   "execution_count": 4,
   "id": "9c23544c",
   "metadata": {},
   "outputs": [
    {
     "name": "stdout",
     "output_type": "stream",
     "text": [
      "7 Không là luỹ thừa của 2\n"
     ]
    }
   ],
   "source": [
    "#W3A3\n",
    "n = int(input())\n",
    "def ktlt(n):\n",
    "    return n > 0 and (n & (n - 1) == 0)\n",
    "if ktlt(n):\n",
    "    print(n, \"Là luỹ thừa của 2\")\n",
    "else: print(n, \"Không là luỹ thừa của 2\")"
   ]
  },
  {
   "cell_type": "code",
   "execution_count": 5,
   "id": "f70bde3d",
   "metadata": {},
   "outputs": [
    {
     "name": "stdout",
     "output_type": "stream",
     "text": [
      "1\n"
     ]
    }
   ],
   "source": [
    "#W3A4\n",
    "m = int(input())\n",
    "n = int(input())\n",
    "print(m//n)\n"
   ]
  },
  {
   "cell_type": "code",
   "execution_count": 6,
   "id": "83c40a58",
   "metadata": {},
   "outputs": [
    {
     "name": "stdout",
     "output_type": "stream",
     "text": [
      "2\n"
     ]
    }
   ],
   "source": [
    "#W2A5\n",
    "m = int(input())\n",
    "n = int(input())\n",
    "print(m//n + 1)\n"
   ]
  },
  {
   "cell_type": "code",
   "execution_count": 8,
   "id": "5202d6c8",
   "metadata": {},
   "outputs": [
    {
     "name": "stdout",
     "output_type": "stream",
     "text": [
      "Odd\n"
     ]
    }
   ],
   "source": [
    "#W3A6\n",
    "x = int(input())\n",
    "while x <= 0:\n",
    "    x = int(input('Nhập x là số nguyên dương:'))\n",
    "if x % 2 == 0: print('Even')\n",
    "else: print('Odd')"
   ]
  },
  {
   "cell_type": "code",
   "execution_count": 7,
   "id": "c39d1318",
   "metadata": {},
   "outputs": [
    {
     "name": "stdout",
     "output_type": "stream",
     "text": [
      "No\n"
     ]
    }
   ],
   "source": [
    "#W3A7\n",
    "a = int(input())\n",
    "b = int(input())\n",
    "if a < 0 and b < 0:\n",
    "    print('Yes')\n",
    "else: print('No')"
   ]
  },
  {
   "cell_type": "code",
   "execution_count": 9,
   "id": "0fcc36e2",
   "metadata": {},
   "outputs": [
    {
     "name": "stdout",
     "output_type": "stream",
     "text": [
      "False\n"
     ]
    }
   ],
   "source": [
    "#W3A8\n",
    "a = input()\n",
    "b = input()\n",
    "if len(a) > len(b):\n",
    "    print('True')\n",
    "else: print('False')"
   ]
  },
  {
   "cell_type": "code",
   "execution_count": null,
   "id": "741c4847",
   "metadata": {},
   "outputs": [
    {
     "name": "stdout",
     "output_type": "stream",
     "text": [
      "Yes\n"
     ]
    }
   ],
   "source": [
    "#W3A9\n",
    "a, b, c = map(int, input().split())\n",
    "if a + b > c and a + c > b and b + c > a:\n",
    "    print('Yes')\n",
    "else: print('No')"
   ]
  },
  {
   "cell_type": "code",
   "execution_count": null,
   "id": "a9a8e192",
   "metadata": {},
   "outputs": [
    {
     "name": "stdout",
     "output_type": "stream",
     "text": [
      "9\n"
     ]
    }
   ],
   "source": [
    "#W3A10\n",
    "lst = list(map(int, input(\"Nhập vào 4 số nguyên dương:\").split()))\n",
    "a = 0\n",
    "for i in lst:\n",
    "    if i > a:\n",
    "        a = i\n",
    "print(a)"
   ]
  },
  {
   "cell_type": "code",
   "execution_count": 26,
   "id": "08993b31",
   "metadata": {},
   "outputs": [
    {
     "name": "stdout",
     "output_type": "stream",
     "text": [
      "Là tam giác vuông\n"
     ]
    }
   ],
   "source": [
    "#W3A11\n",
    "a = int(input())\n",
    "b = int(input())\n",
    "c = int(input())\n",
    "\n",
    "if a + b > c and a + c > b and b + c > a:\n",
    "    if a == b == c:\n",
    "        print('Là tam giác đều')\n",
    "        \n",
    "    elif a**2 + b**2 == c**2 or b**2 + c**2 == a**2 or a**2 + c**2 == b**2:\n",
    "        print('Là tam giác vuông')\n",
    "        \n",
    "    elif ((a == b) and (a != c)) or ((b == c) and (b != a)) or ((c == a) and (c!= b)):\n",
    "        print('Là tam giác cân')\n",
    "    \n",
    "    elif (a**2 + b**2 == c**2 or b**2 + c**2 == a**2 or a**2 + c**2 == b**2) and ((a == b) and (a != c)) or ((b == c) and (b != a)) or ((c == a) and (c!= b)):\n",
    "        print('Là tam giác vuông cân')\n",
    "        \n",
    "    else: \n",
    "        print('Là tam giác thường')\n",
    "        \n",
    "else: print('Không phải tam giác')\n"
   ]
  },
  {
   "cell_type": "code",
   "execution_count": 29,
   "id": "0e4fd18e",
   "metadata": {},
   "outputs": [
    {
     "name": "stdout",
     "output_type": "stream",
     "text": [
      "Yes\n"
     ]
    }
   ],
   "source": [
    "#W3A12\n",
    "n = int(input())\n",
    "if n % 400 == 0:\n",
    "    print('Yes')\n",
    "elif n % 4 == 0 and n% 100 != 0:\n",
    "    print('Yes')\n",
    "else:\n",
    "    print('No')"
   ]
  },
  {
   "cell_type": "code",
   "execution_count": null,
   "id": "54752f32",
   "metadata": {},
   "outputs": [
    {
     "name": "stdout",
     "output_type": "stream",
     "text": [
      "-0.67 là nghiệm của phương trình\n"
     ]
    }
   ],
   "source": [
    "#W3A14\n",
    "a, b = map(float, input().split())\n",
    "x = -b / a\n",
    "if a == 0 and b != 0:\n",
    "    print('Vô nghiệm')\n",
    "elif a == 0 and b == 0:\n",
    "    print('Vô số nghiệm')\n",
    "else: print(f'{x:.2f} là nghiệm của phương trình')"
   ]
  },
  {
   "cell_type": "code",
   "execution_count": null,
   "id": "300f48c8",
   "metadata": {},
   "outputs": [
    {
     "name": "stdout",
     "output_type": "stream",
     "text": [
      "Yếu\n"
     ]
    }
   ],
   "source": [
    "#W3A15\n",
    "res = float(input())\n",
    "while res < 0 or res > 10:\n",
    "    res = float(input('Kết quả không hợp lệ hãy nhập lại'))\n",
    "if 10 >= res >= 8.0:\n",
    "    print('Giỏi')\n",
    "elif 6.5 <= res < 8.0:\n",
    "    print('Khá')\n",
    "elif 5.0 <= res < 6.5:\n",
    "    print('Trung bình')\n",
    "else: print('Yếu')"
   ]
  },
  {
   "cell_type": "code",
   "execution_count": null,
   "id": "2aa23dcb",
   "metadata": {},
   "outputs": [
    {
     "name": "stdout",
     "output_type": "stream",
     "text": [
      "-10   -8   -10\n"
     ]
    }
   ],
   "source": [
    "#W3A16\n",
    "x = float(input())\n",
    "#Làm tròn xuống\n",
    "if x >= 0:\n",
    "    ltx = int(x)\n",
    "else:\n",
    "    if x != int(x):\n",
    "        ltx = int(x) - 1\n",
    "    else:\n",
    "        ltx = int(x)\n",
    "#Làm tròn lên\n",
    "if x >= 0:\n",
    "    ltl = int(x) + 1\n",
    "else:\n",
    "    if x != int(x):\n",
    "        ltl = int(x) + 1\n",
    "    else:\n",
    "        ltl = int(x)\n",
    "#Làm tròn đến số nguyên gần nhất\n",
    "tp = abs(x - int(x))\n",
    "if x >= 0:\n",
    "    if tp >= 0.5:\n",
    "        ltn = int(x) + 1\n",
    "    else:\n",
    "        ltn = int(x)\n",
    "else:\n",
    "    if tp >= 0.5:\n",
    "        ltn = int(x) - 1\n",
    "    else:\n",
    "        ltn = int(x)\n",
    "\n",
    "print(ltx, \" \", ltl, \" \", ltn)\n"
   ]
  },
  {
   "cell_type": "code",
   "execution_count": null,
   "id": "7c3a4c18",
   "metadata": {},
   "outputs": [
    {
     "name": "stdout",
     "output_type": "stream",
     "text": [
      "Dãy trên là cấp số nhân\n"
     ]
    }
   ],
   "source": [
    "#W3A17\n",
    "a, b, c, d = map(float, input().split())\n",
    "if b % a == 0:\n",
    "    cb = b // a\n",
    "    if cb * a == b and cb * b == c and cb * c == d:\n",
    "        print(\"Dãy trên là cấp số nhân với công bội nguyên\")\n",
    "    else: print(\"Không phải là cấp số nhân với công bội nguyên\")\n",
    "else:\n",
    "    print(\"Không phải là cấp số nhân với công bội nguyên\")"
   ]
  }
 ],
 "metadata": {
  "kernelspec": {
   "display_name": "Python 3",
   "language": "python",
   "name": "python3"
  },
  "language_info": {
   "codemirror_mode": {
    "name": "ipython",
    "version": 3
   },
   "file_extension": ".py",
   "mimetype": "text/x-python",
   "name": "python",
   "nbconvert_exporter": "python",
   "pygments_lexer": "ipython3",
   "version": "3.13.7"
  }
 },
 "nbformat": 4,
 "nbformat_minor": 5
}
