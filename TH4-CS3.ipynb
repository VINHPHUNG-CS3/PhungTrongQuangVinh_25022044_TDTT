{
 "cells": [
  {
   "cell_type": "code",
   "execution_count": 1,
   "id": "7574bb42",
   "metadata": {},
   "outputs": [
    {
     "name": "stdout",
     "output_type": "stream",
     "text": [
      "6\n"
     ]
    }
   ],
   "source": [
    "s = 0\n",
    "n = int(input(\"Nhập số nguyên n <= 1000:\"))\n",
    "for i in range(n+1):\n",
    "    s += i\n",
    "print(s)"
   ]
  },
  {
   "cell_type": "code",
   "execution_count": null,
   "id": "916acd88",
   "metadata": {},
   "outputs": [],
   "source": [
    "n = int(input())\n",
    "while n <= 0:\n",
    "    n = int(input(\"Hãy nhập số nguyên dương:\"))\n",
    "if n <= 1:\n",
    "    print(\"Không là số nguyên tố\")\n",
    "else:\n",
    "    if n % 1 == 0 and "
   ]
  },
  {
   "cell_type": "code",
   "execution_count": 2,
   "id": "755f0252",
   "metadata": {},
   "outputs": [
    {
     "name": "stdout",
     "output_type": "stream",
     "text": [
      "6\n"
     ]
    }
   ],
   "source": [
    "#W4A3\n",
    "n = int(input())\n",
    "s=1\n",
    "while n < 0 or n > 100:\n",
    "    n = int(input(\"Hãy nhập số nguyên n trong khoảng (0,100): \"))\n",
    "for i in range(1, n+1):\n",
    "    s *= i\n",
    "print(s)"
   ]
  },
  {
   "cell_type": "code",
   "execution_count": 10,
   "id": "df7105e0",
   "metadata": {},
   "outputs": [
    {
     "name": "stdout",
     "output_type": "stream",
     "text": [
      "Bạn phải nhập số nguyên\n",
      "9\n"
     ]
    }
   ],
   "source": [
    "#W4A4\n",
    "try:\n",
    "    n = int(input())\n",
    "    tem = n\n",
    "    if n < 0:\n",
    "        n = -n\n",
    "        tem = n\n",
    "\n",
    "    if n == 0:\n",
    "        scs = 1\n",
    "    else:\n",
    "        scs = 0\n",
    "        while tem > 0:\n",
    "            tem //= 10\n",
    "            scs += 1\n",
    "\n",
    "    print(scs)\n",
    "except ValueError:\n",
    "    print('Bạn phải nhập số nguyên')\n",
    "    n = int(input())\n",
    "    tem = n\n",
    "    if n < 0:\n",
    "        n = -n\n",
    "        tem = n\n",
    "\n",
    "    if n == 0:\n",
    "        scs = 1\n",
    "    else:\n",
    "        scs = 0\n",
    "        while tem > 0:\n",
    "            tem //= 10\n",
    "            scs += 1\n",
    "    print(scs)\n"
   ]
  }
 ],
 "metadata": {
  "kernelspec": {
   "display_name": "Python 3",
   "language": "python",
   "name": "python3"
  },
  "language_info": {
   "codemirror_mode": {
    "name": "ipython",
    "version": 3
   },
   "file_extension": ".py",
   "mimetype": "text/x-python",
   "name": "python",
   "nbconvert_exporter": "python",
   "pygments_lexer": "ipython3",
   "version": "3.13.7"
  }
 },
 "nbformat": 4,
 "nbformat_minor": 5
}
