{
 "cells": [
  {
   "cell_type": "code",
   "execution_count": null,
   "id": "7574bb42",
   "metadata": {},
   "outputs": [
    {
     "name": "stdout",
     "output_type": "stream",
     "text": [
      "6\n"
     ]
    }
   ],
   "source": [
    "#W4A1\n",
    "s = 0\n",
    "n = int(input(\"Nhập số nguyên n <= 1000:\"))\n",
    "for i in range(n+1):\n",
    "    s += i\n",
    "print(s)"
   ]
  },
  {
   "cell_type": "code",
   "execution_count": 19,
   "id": "916acd88",
   "metadata": {},
   "outputs": [
    {
     "name": "stdout",
     "output_type": "stream",
     "text": [
      "4 không là số nguyên tố\n"
     ]
    }
   ],
   "source": [
    "#W4A2\n",
    "n = int(input())\n",
    "while n <= 0:\n",
    "    n = int(input(\"Hãy nhập số nguyên dương:\"))\n",
    "\n",
    "flag = True\n",
    "if n < 2:\n",
    "    flag = False\n",
    "for i in range(2, int(n**0.5) + 1):\n",
    "    if n % i == 0:\n",
    "        flag = False\n",
    "        break\n",
    "\n",
    "if flag == True:\n",
    "    print(f'{n} là số nguyên tố')\n",
    "else:\n",
    "    print(f'{n} không là số nguyên tố')"
   ]
  },
  {
   "cell_type": "code",
   "execution_count": 2,
   "id": "755f0252",
   "metadata": {},
   "outputs": [
    {
     "name": "stdout",
     "output_type": "stream",
     "text": [
      "6\n"
     ]
    }
   ],
   "source": [
    "#W4A3\n",
    "n = int(input())\n",
    "s=1\n",
    "while n < 0 or n > 100:\n",
    "    n = int(input(\"Hãy nhập số nguyên n trong khoảng (0,100): \"))\n",
    "for i in range(1, n+1):\n",
    "    s *= i\n",
    "print(s)"
   ]
  },
  {
   "cell_type": "code",
   "execution_count": null,
   "id": "df7105e0",
   "metadata": {},
   "outputs": [
    {
     "name": "stdout",
     "output_type": "stream",
     "text": [
      "Bạn phải nhập số nguyên\n",
      "9\n"
     ]
    }
   ],
   "source": [
    "#W4A4\n",
    "try:\n",
    "    n = int(input())\n",
    "    tem = n\n",
    "    if n < 0:\n",
    "        n = -n\n",
    "        tem = n\n",
    "\n",
    "    if n == 0:\n",
    "        scs = 1\n",
    "    else:\n",
    "        scs = 0\n",
    "        while tem > 0:\n",
    "            tem //= 10\n",
    "            scs += 1\n",
    "\n",
    "    print(scs)\n",
    "except ValueError:\n",
    "    print('Bạn phải nhập số nguyên')"
   ]
  },
  {
   "cell_type": "code",
   "execution_count": 11,
   "id": "da4ada38",
   "metadata": {},
   "outputs": [
    {
     "name": "stdout",
     "output_type": "stream",
     "text": [
      " I've found the meaning of life \n"
     ]
    }
   ],
   "source": [
    "#W4A5\n",
    "n = int(input())\n",
    "flag =  False\n",
    "for i in range(n):\n",
    "    x = int(input())\n",
    "    if x == 42:\n",
    "        flag =  True\n",
    "        break\n",
    "if flag == True:\n",
    "    print(\" I've found the meaning of life \")\n",
    "else:\n",
    "    print(\" It's a joke\")\n"
   ]
  },
  {
   "cell_type": "code",
   "execution_count": null,
   "id": "b0e99df7",
   "metadata": {},
   "outputs": [],
   "source": [
    "#W4A6\n"
   ]
  },
  {
   "cell_type": "code",
   "execution_count": null,
   "id": "9ca8b992",
   "metadata": {},
   "outputs": [
    {
     "name": "stdout",
     "output_type": "stream",
     "text": [
      "5\n"
     ]
    }
   ],
   "source": [
    "#W4A7\n",
    "try:\n",
    "    n = int(input())\n",
    "    while n < 2:\n",
    "        n = int(input('Hãy nhập n >= 2:'))\n",
    "    i = 2\n",
    "    lst = []\n",
    "    while i**2 < n:\n",
    "        while n % i == 0:\n",
    "            lst.append(i)\n",
    "            n //= i\n",
    "        i += 1\n",
    "    \n",
    "    if n > 1:\n",
    "        lst.append(n)\n",
    "    \n",
    "    print(max(lst))\n",
    "except ValueError:\n",
    "    print(\"Giá trị nhập không phải là số nguyên, không hợp lệ\")"
   ]
  },
  {
   "cell_type": "code",
   "execution_count": 25,
   "id": "81981cfc",
   "metadata": {},
   "outputs": [
    {
     "name": "stdout",
     "output_type": "stream",
     "text": [
      "chịu\n"
     ]
    }
   ],
   "source": [
    "#W4A8\n",
    "print('chịu')\n"
   ]
  },
  {
   "cell_type": "code",
   "execution_count": null,
   "id": "3ddd039f",
   "metadata": {},
   "outputs": [],
   "source": [
    "#W4A9\n"
   ]
  },
  {
   "cell_type": "code",
   "execution_count": 51,
   "id": "23d27905",
   "metadata": {},
   "outputs": [
    {
     "name": "stdout",
     "output_type": "stream",
     "text": [
      "9 20\n"
     ]
    }
   ],
   "source": [
    "#W4A10\n",
    "n = int(input())\n",
    "\n",
    "def collatz_len(x):\n",
    "    count = 1\n",
    "    while x != 1:\n",
    "        if x % 2 == 0:\n",
    "            x = x //2\n",
    "        else:\n",
    "            x = x*3 + 1\n",
    "        count += 1\n",
    "    return count\n",
    "\n",
    "maxlen = 0\n",
    "bestx = 1\n",
    "\n",
    "for i in range (1, n + 1):\n",
    "    L = collatz_len(i)\n",
    "    if L > maxlen or (L == maxlen and i < bestx):\n",
    "        maxlen = L\n",
    "        bestx = i\n",
    "\n",
    "print(bestx, maxlen)\n",
    "\n"
   ]
  },
  {
   "cell_type": "code",
   "execution_count": 34,
   "id": "b1101950",
   "metadata": {},
   "outputs": [
    {
     "name": "stdout",
     "output_type": "stream",
     "text": [
      "4\n"
     ]
    }
   ],
   "source": [
    "#W4A11\n",
    "n = int(input())\n",
    "while n <= 0 or n >= 10**6:\n",
    "    n = int(input('Hãy nhập n là số nguyên dương trong khoảng (0;10^6):'))\n",
    "\n",
    "lst = []\n",
    "for i in range(1, n+1):\n",
    "    if n % i == 0:\n",
    "        lst.append(i)\n",
    "\n",
    "cnt = 0\n",
    "for j in lst:\n",
    "    if j % 2 == 0:\n",
    "        cnt += 1\n",
    "\n",
    "print(cnt)\n"
   ]
  },
  {
   "cell_type": "code",
   "execution_count": 33,
   "id": "69b9722a",
   "metadata": {},
   "outputs": [
    {
     "name": "stdout",
     "output_type": "stream",
     "text": [
      "4\n"
     ]
    }
   ],
   "source": [
    "#W4A11 cách 2\n",
    "n = int(input())\n",
    "while n <= 0 or n >= 10**6:\n",
    "    n = int(input('Hãy nhập n là số nguyên dương trong khoảng (0;10^6):'))\n",
    "\n",
    "cnt = 0\n",
    "for i in range(1, int(n**0.5) + 1):\n",
    "    if n % i == 0:\n",
    "        if i % 2 == 0:\n",
    "            cnt += 1\n",
    "        if i != (n // i) and (n // i) % 2 == 0:\n",
    "            cnt += 1\n",
    "print(cnt)\n"
   ]
  },
  {
   "cell_type": "code",
   "execution_count": 2,
   "id": "ae489b2e",
   "metadata": {},
   "outputs": [
    {
     "name": "stdout",
     "output_type": "stream",
     "text": [
      "1102586\n"
     ]
    }
   ],
   "source": [
    "#W4A12\n",
    "X = float(input('Nhập số tiền gửi tiết kiệm:'))\n",
    "N = int(input('Nhập số tháng gửi tiết kiệm:'))\n",
    "while X < 0 or N < 0:\n",
    "    X = float(input('Nhập số tiền gửi tiết kiệm:'))\n",
    "    N = int(input('Nhập số tháng gửi tiết kiệm:'))\n",
    "for i in range (0,N):\n",
    "    X = X + 0.007*X\n",
    "print(int(X))"
   ]
  },
  {
   "cell_type": "code",
   "execution_count": null,
   "id": "a5813276",
   "metadata": {},
   "outputs": [],
   "source": [
    "#W4A13"
   ]
  },
  {
   "cell_type": "code",
   "execution_count": 20,
   "id": "79952e9f",
   "metadata": {},
   "outputs": [
    {
     "name": "stdout",
     "output_type": "stream",
     "text": [
      "3\n"
     ]
    }
   ],
   "source": [
    "#W4A14\n",
    "m = int(input())\n",
    "n = int(input())\n",
    "while m <= 0 or n <= 0:\n",
    "    m = int(input(\"Hãy nhập m là số nguyên dương:\"))\n",
    "    n = int(input(\"Hãy nhập n là số nguyên dương:\"))\n",
    "\n",
    "while n != 0:\n",
    "    r = m % n\n",
    "    m = n\n",
    "    n = r\n",
    "print(m)"
   ]
  },
  {
   "cell_type": "code",
   "execution_count": 39,
   "id": "5f275ce2",
   "metadata": {},
   "outputs": [
    {
     "name": "stdout",
     "output_type": "stream",
     "text": [
      "22 14\n"
     ]
    }
   ],
   "source": [
    "#W4A15\n",
    "scon = int(input())\n",
    "schan = int(input())\n",
    "if scon == 0 and schan > 0:\n",
    "    print(\"invalid\")\n",
    "elif scon < 0 or schan < 0 or schan % 2 != 0:\n",
    "    print(\"invalid\")\n",
    "elif schan < scon:\n",
    "    print(\"invalid\")\n",
    "else:\n",
    "    c = (schan - scon*2)/2\n",
    "    g = scon - c\n",
    "    print(int(g), int(c))"
   ]
  }
 ],
 "metadata": {
  "kernelspec": {
   "display_name": "Python 3",
   "language": "python",
   "name": "python3"
  },
  "language_info": {
   "codemirror_mode": {
    "name": "ipython",
    "version": 3
   },
   "file_extension": ".py",
   "mimetype": "text/x-python",
   "name": "python",
   "nbconvert_exporter": "python",
   "pygments_lexer": "ipython3",
   "version": "3.13.7"
  }
 },
 "nbformat": 4,
 "nbformat_minor": 5
}
