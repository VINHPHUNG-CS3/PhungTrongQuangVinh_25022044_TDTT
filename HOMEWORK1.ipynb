{
 "cells": [
  {
   "cell_type": "code",
   "execution_count": 4,
   "id": "0c76d7d3",
   "metadata": {},
   "outputs": [
    {
     "name": "stdout",
     "output_type": "stream",
     "text": [
      "6\n"
     ]
    }
   ],
   "source": [
    "#Bài 1\n",
    "n = int(input())\n",
    "print(n*2)"
   ]
  },
  {
   "cell_type": "code",
   "execution_count": 5,
   "id": "fbc1a0d9",
   "metadata": {},
   "outputs": [
    {
     "name": "stdout",
     "output_type": "stream",
     "text": [
      "4.93\n"
     ]
    }
   ],
   "source": [
    "#Bài 2\n",
    "a = float(input())\n",
    "b = float(input())\n",
    "print(f'{a*b - 3.14*(a/2)**2 :.2f}')"
   ]
  },
  {
   "cell_type": "code",
   "execution_count": 2,
   "id": "02b18d8b",
   "metadata": {},
   "outputs": [
    {
     "name": "stdout",
     "output_type": "stream",
     "text": [
      "G\n"
     ]
    }
   ],
   "source": [
    "#Bài 3\n",
    "c = input()\n",
    "while len(c) != 1:\n",
    "    c = input('Chỉ nhập kí tự:')\n",
    "\n",
    "if c.isupper():\n",
    "    print(c.lower())\n",
    "else: print(c.upper())"
   ]
  },
  {
   "cell_type": "code",
   "execution_count": 9,
   "id": "2d939745",
   "metadata": {},
   "outputs": [
    {
     "name": "stdout",
     "output_type": "stream",
     "text": [
      "{c} là kí tự alphabet\n"
     ]
    }
   ],
   "source": [
    "#Bài 4\n",
    "c = input()\n",
    "if ord(c) >= 65 and ord(c) <= 90:\n",
    "    print('{c} là kí tự alphabet')\n",
    "elif ord(c) >= 97 and ord(c) <= 122:\n",
    "    print('{c} là kí tự alphabet') \n",
    "else: print('{c} không phải là kí tự alphabet')"
   ]
  },
  {
   "cell_type": "code",
   "execution_count": 12,
   "id": "183db1fd",
   "metadata": {},
   "outputs": [
    {
     "name": "stdout",
     "output_type": "stream",
     "text": [
      "b\n"
     ]
    }
   ],
   "source": [
    "#Bài 5\n",
    "A = input()\n",
    "if ord(A) > 65 and ord(A) <= 90:\n",
    "    A = A.lower()\n",
    "    print(chr( ord(A) - 1 ))\n",
    "elif ord(A) == 65:\n",
    "    print('a')\n",
    "else: print('Kí tự không hợp lệ')"
   ]
  },
  {
   "cell_type": "code",
   "execution_count": 13,
   "id": "871e35f6",
   "metadata": {},
   "outputs": [
    {
     "name": "stdout",
     "output_type": "stream",
     "text": [
      "6.0\n"
     ]
    }
   ],
   "source": [
    "#Bài 6\n",
    "a, b, c = map(int, input().split())\n",
    "if a + b > c and a + c > b and b + c > a :\n",
    "    p = ( a + b + c )/2\n",
    "    s = (p*(p-a)*(p-b)*(p-c))**(1/2)\n",
    "    print(f'{s:.1f}')\n",
    "else: print('Không phải 3 cạnh của tam giác')"
   ]
  },
  {
   "cell_type": "code",
   "execution_count": null,
   "id": "2ac85f79",
   "metadata": {},
   "outputs": [],
   "source": [
    "#Bài 7\n",
    "s = input()\n",
    "if len(s) >= 20:\n",
    "    print(s[4], s[8])\n",
    "else: \n",
    "    print('Nhập chuỗi có độ dài >=20:')"
   ]
  },
  {
   "cell_type": "code",
   "execution_count": 14,
   "id": "66feb3ac",
   "metadata": {},
   "outputs": [
    {
     "name": "stdout",
     "output_type": "stream",
     "text": [
      "Ho va ten: Vinh\n",
      "Tien phai tra la: 42854\n"
     ]
    }
   ],
   "source": [
    "#Bài 8\n",
    "def ep(x):\n",
    "    if x <= 50:\n",
    "        n = 1984*x\n",
    "        return n + n*0.08\n",
    "    elif 51 <= x <= 100:\n",
    "        n = 50*1984 + (x - 50)*2050\n",
    "        return n + 0.08*n\n",
    "    elif 101 <= x <= 200:\n",
    "        n = 50*1984 + 50*2050 + (x - 100)*2380\n",
    "        return n + 0.08*n\n",
    "    elif 201 <= x <= 300:\n",
    "        n = 50*1984 + 50*2050 + 50*2380 + (x - 150)*2998\n",
    "        return n + 0.08*n\n",
    "    elif 301 <= x <= 400:\n",
    "        n = 50*1984 + 50*2050 + 50*2380 + 50*2998 + (x - 200)*3350\n",
    "        return n + 0.08*n\n",
    "    elif x >= 401:\n",
    "        n = 50*1984 + 50*2050 + 50*2380 + 50*2998 + 50*3350 + (x-250)*3460\n",
    "        return n + 0.08*n\n",
    "    \n",
    "a = input('Ten chu ho:')\n",
    "\n",
    "b = int(input('Chi so thang trươc:'))\n",
    "\n",
    "c = int(input('Chi so thang nay:'))\n",
    "\n",
    "print('Ho va ten:', a)\n",
    "print('Tien phai tra la:', int(ep(c - b)))"
   ]
  },
  {
   "cell_type": "code",
   "execution_count": 15,
   "id": "3bfbb26e",
   "metadata": {},
   "outputs": [
    {
     "name": "stdout",
     "output_type": "stream",
     "text": [
      "La so le\n"
     ]
    }
   ],
   "source": [
    "#Một số bài tập khác\n",
    "\n",
    "#1\n",
    "a = int(input())\n",
    "if a % 2 ==0:\n",
    "    print('La so chan')\n",
    "else: print('La so le')"
   ]
  },
  {
   "cell_type": "code",
   "execution_count": 16,
   "id": "f6c500ff",
   "metadata": {},
   "outputs": [
    {
     "name": "stdout",
     "output_type": "stream",
     "text": [
      "True\n"
     ]
    }
   ],
   "source": [
    "#2\n",
    "n = int(input())\n",
    "if n % 10 == 5:\n",
    "    print('True')\n",
    "else: print('False')"
   ]
  },
  {
   "cell_type": "code",
   "execution_count": null,
   "id": "b88a3d4d",
   "metadata": {},
   "outputs": [],
   "source": [
    "#3\n",
    "n = int(input())\n",
    "if n % 3 == 0 and n % 5 ==0:\n",
    "    print('True')\n",
    "else: print('False')"
   ]
  },
  {
   "cell_type": "code",
   "execution_count": 17,
   "id": "b81da6e5",
   "metadata": {},
   "outputs": [
    {
     "name": "stdout",
     "output_type": "stream",
     "text": [
      "Đủ tuổi để đi bầu cử\n"
     ]
    }
   ],
   "source": [
    "#4\n",
    "t = int(input('Nhập năm sinh:'))\n",
    "n = int(input('Nhập năm hiện tại:'))\n",
    "if n - t >= 18:\n",
    "    print('Đủ tuổi để đi bầu cử')\n",
    "elif n - t < 0:\n",
    "    print('Dữ liệu không hợp lệ')\n",
    "else: print('Không đủ tuổi')"
   ]
  },
  {
   "cell_type": "code",
   "execution_count": null,
   "id": "298dfedf",
   "metadata": {},
   "outputs": [],
   "source": [
    "#5\n",
    "a = float(input())\n",
    "b = float(input())\n",
    "if a == b:\n",
    "    print('Hai số bằng nhau')\n",
    "elif a < b:\n",
    "    print(b)\n",
    "else: print(a)"
   ]
  },
  {
   "cell_type": "code",
   "execution_count": null,
   "id": "13cb1466",
   "metadata": {},
   "outputs": [
    {
     "name": "stdout",
     "output_type": "stream",
     "text": [
      "Là chữu cái\n"
     ]
    }
   ],
   "source": [
    "#6\n",
    "char = input()\n",
    "if 65 <= ord(char) <= 90:\n",
    "    print('Là chữ cái')\n",
    "elif 97 <= ord(char) <= 122:\n",
    "    print('Là chữ cái')\n",
    "elif 48 <= ord(char) <= 57:\n",
    "    print('Là số')\n",
    "else: print('Không là chữ cái, cũng không là số')"
   ]
  },
  {
   "cell_type": "code",
   "execution_count": null,
   "id": "63e5916f",
   "metadata": {},
   "outputs": [
    {
     "name": "stdout",
     "output_type": "stream",
     "text": [
      "Khá\n"
     ]
    }
   ],
   "source": [
    "#7\n",
    "res = float(input())\n",
    "while res <=0 or res >10:\n",
    "    res = float(input('Điểm không hợp lệ vui lòng nhập lại:'))\n",
    "if 8 <= res <=10:\n",
    "    print('Giỏi')\n",
    "elif 6.5 <= res < 8:\n",
    "    print('Khá')\n",
    "elif 5 <= res < 6.5:\n",
    "    print('Trung Bình')\n",
    "elif 0 <= res < 5:\n",
    "    print('Yếu')"
   ]
  },
  {
   "cell_type": "code",
   "execution_count": null,
   "id": "b8b29ac6",
   "metadata": {},
   "outputs": [],
   "source": [
    "#8\n",
    "#W3A12\n",
    "n = int(input())\n",
    "if n % 400 == 0:\n",
    "    print('Là năm nhuận')\n",
    "elif n % 4 == 0 and n% 100 != 0:\n",
    "    print('Là năm nhuận')\n",
    "else:\n",
    "    print('Không là năm nhuận')"
   ]
  },
  {
   "cell_type": "code",
   "execution_count": 22,
   "id": "b14bad53",
   "metadata": {},
   "outputs": [
    {
     "name": "stdout",
     "output_type": "stream",
     "text": [
      "Không hợp lệ hãy nhập lại\n",
      "Tám\n"
     ]
    }
   ],
   "source": [
    "#9\n",
    "s = int(input())\n",
    "while s < 0 or s >= 10:\n",
    "    print('Không hợp lệ hãy nhập lại')\n",
    "    s = int(input())\n",
    "def kt(s):\n",
    "    match s:\n",
    "        case 0:\n",
    "            return 'Không'\n",
    "        case 1:\n",
    "            return 'Một'\n",
    "        case 2:\n",
    "            return 'Hai'\n",
    "        case 3:\n",
    "            return 'Ba'\n",
    "        case 4:\n",
    "            return 'Bốn'\n",
    "        case 5: \n",
    "            return 'Năm'\n",
    "        case 6:\n",
    "            return 'Sáu'\n",
    "        case 7:\n",
    "            return 'Bảy'\n",
    "        case 8:\n",
    "            return 'Tám'\n",
    "        case 9:\n",
    "            return 'Chín'\n",
    "print(kt(s))"
   ]
  },
  {
   "cell_type": "code",
   "execution_count": null,
   "id": "18f645f7",
   "metadata": {},
   "outputs": [],
   "source": [
    "res = float(input())\n",
    "while res <=0 or res >10:\n",
    "    res = float(input('Điểm không hợp lệ vui lòng nhập lại:'))\n",
    "if res >= 4:\n",
    "    print('Qua môn')\n",
    "else: print('Học lại')"
   ]
  },
  {
   "cell_type": "code",
   "execution_count": null,
   "id": "3a19451c",
   "metadata": {},
   "outputs": [],
   "source": [
    "#11\n",
    "n = int(input())\n",
    "h = 2025\n",
    "if n > h:\n",
    "    print('Không hợp lệ')\n",
    "elif h - n >= 18:\n",
    "    print( h - n)\n",
    "    print('Đã đủ 18 tuổi')\n",
    "else: \n",
    "    print(h - n)\n",
    "    print('Không đủ 18 tuổi')"
   ]
  }
 ],
 "metadata": {
  "kernelspec": {
   "display_name": "Python 3",
   "language": "python",
   "name": "python3"
  },
  "language_info": {
   "codemirror_mode": {
    "name": "ipython",
    "version": 3
   },
   "file_extension": ".py",
   "mimetype": "text/x-python",
   "name": "python",
   "nbconvert_exporter": "python",
   "pygments_lexer": "ipython3",
   "version": "3.13.7"
  }
 },
 "nbformat": 4,
 "nbformat_minor": 5
}
