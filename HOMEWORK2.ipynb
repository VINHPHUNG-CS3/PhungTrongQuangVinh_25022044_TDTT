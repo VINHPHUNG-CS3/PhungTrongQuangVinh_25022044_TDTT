{
 "cells": [
  {
   "cell_type": "code",
   "execution_count": 1,
   "id": "9641b7a6",
   "metadata": {},
   "outputs": [
    {
     "name": "stdout",
     "output_type": "stream",
     "text": [
      "12.0 14.0\n"
     ]
    }
   ],
   "source": [
    "#Bài 1\n",
    "a = float(input())\n",
    "b = float(input())\n",
    "print(a*b, (a + b)*2)"
   ]
  },
  {
   "cell_type": "code",
   "execution_count": 2,
   "id": "18fa0355",
   "metadata": {},
   "outputs": [
    {
     "name": "stdout",
     "output_type": "stream",
     "text": [
      "78.5 31.400000000000002\n"
     ]
    }
   ],
   "source": [
    "#Bài 2\n",
    "r = float(input())\n",
    "print(3.14*r**2, 2*3.14*r)"
   ]
  },
  {
   "cell_type": "code",
   "execution_count": 3,
   "id": "892bf50f",
   "metadata": {},
   "outputs": [
    {
     "name": "stdout",
     "output_type": "stream",
     "text": [
      "Là tam giác vuông\n",
      "6.0 12.0\n"
     ]
    }
   ],
   "source": [
    "#Bài 3\n",
    "a = float(input())\n",
    "b = float(input())\n",
    "c = float(input())\n",
    "cv = a + b + c\n",
    "ncv = cv / 2\n",
    "s = (ncv*(ncv - a)*(ncv - b)*(ncv - c))**0.5\n",
    "if a + b > c and a + c > b and b + c > a:\n",
    "    if a == b == c:\n",
    "        print('Là tam giác đều')\n",
    "        print(s, cv)\n",
    "    elif a**2 + b**2 == c**2 or b**2 + c**2 == a**2 or a**2 + c**2 == b**2:\n",
    "        print('Là tam giác vuông')\n",
    "        print(s, cv)\n",
    "    elif a == b or b == c or c == a:\n",
    "        print('Là tam giác cân')\n",
    "        print(s, cv)\n",
    "    else: \n",
    "        print('Là tam giác thường')\n",
    "        print(s, cv)\n",
    "else: print('Không là 3 cạnh của tam giác')\n"
   ]
  },
  {
   "cell_type": "code",
   "execution_count": 4,
   "id": "ddd97d92",
   "metadata": {},
   "outputs": [
    {
     "name": "stdout",
     "output_type": "stream",
     "text": [
      "Nghiệm của phương trình bậc nhất là: -1.0\n"
     ]
    }
   ],
   "source": [
    "#Bài 4\n",
    "a = float(input())\n",
    "b = float(input())\n",
    "print('Nghiệm của phương trình bậc nhất là:', -b/a)"
   ]
  },
  {
   "cell_type": "code",
   "execution_count": 26,
   "id": "c2f48703",
   "metadata": {},
   "outputs": [
    {
     "name": "stdout",
     "output_type": "stream",
     "text": [
      "Phương trình có nghiệm kép: 1.0\n"
     ]
    }
   ],
   "source": [
    "#Bài 5\n",
    "a, b, c = map(float, input().split())\n",
    "while a == 0:\n",
    "    a, b, c = map(float, input('Vui lòng nhập hệ số a khác 0:').split())\n",
    "delta = b**2 - 4*a*c\n",
    "if delta < 0:\n",
    "    print('Phương trình vô nghiệm trên trường số thực')\n",
    "elif delta == 0:\n",
    "    print('Phương trình có nghiệm kép:', -b/(2*a))\n",
    "else: \n",
    "    x1 = (-b + delta**0.5)/(2*a)\n",
    "    x2 = (-b - delta**0.5)/(2*a)\n",
    "    print('Phương trình có 2 nghiệm x1, x2 lần lượt là:', x1, x2)"
   ]
  },
  {
   "cell_type": "code",
   "execution_count": 8,
   "id": "62583ec2",
   "metadata": {},
   "outputs": [
    {
     "name": "stdout",
     "output_type": "stream",
     "text": [
      "Giá trị lớn nhất là: 4.0\n"
     ]
    }
   ],
   "source": [
    "#Bài 6\n",
    "lis = list(map(float, input().split()))\n",
    "max = lis[0]\n",
    "for i in lis:\n",
    "    if i > max:\n",
    "        max = i\n",
    "print('Giá trị lớn nhất là:', max)"
   ]
  },
  {
   "cell_type": "code",
   "execution_count": 25,
   "id": "6481f5d2",
   "metadata": {},
   "outputs": [
    {
     "name": "stdout",
     "output_type": "stream",
     "text": [
      "Giá trị nhỏ nhất là: 2.2\n"
     ]
    }
   ],
   "source": [
    "#Bài 7\n",
    "lis = list(map(float, input().split()))\n",
    "min = lis[0]\n",
    "for i in lis:\n",
    "    if i < min:\n",
    "        min = i\n",
    "print('Giá trị nhỏ nhất là:', min)"
   ]
  },
  {
   "cell_type": "code",
   "execution_count": 10,
   "id": "3b9d4e40",
   "metadata": {},
   "outputs": [
    {
     "name": "stdout",
     "output_type": "stream",
     "text": [
      "Hệ có vô số nghiệm\n"
     ]
    }
   ],
   "source": [
    "#Bài 8\n",
    "a, b, m = map(float, input('Nhập lần lượt hệ số của hàng 1:').split())\n",
    "c, d, n = map(float, input('Nhập lần lượt hệ số của hàng 2:').split())\n",
    "\n",
    "d1 = a * d - b * c\n",
    "dx = m * d - b * n\n",
    "dy = a * n - m * c\n",
    "\n",
    "if d1 != 0:\n",
    "    x = dx/d\n",
    "    y = dy/d\n",
    "    print(f'Hệ có nghiệm duy nhất: x = {x}, y = {y}')\n",
    "else: \n",
    "    if dx == 0 and dy == 0:\n",
    "        print('Hệ có vô số nghiệm')\n",
    "    else: print('Hệ vô nghiệm')"
   ]
  },
  {
   "cell_type": "code",
   "execution_count": 11,
   "id": "92fadc5b",
   "metadata": {},
   "outputs": [
    {
     "name": "stdout",
     "output_type": "stream",
     "text": [
      "4 giờ 2 phút 56 giây\n"
     ]
    }
   ],
   "source": [
    "#Bài 9\n",
    "x = int(input())\n",
    "h = x // 3600\n",
    "rem = x % 3600\n",
    "m = rem // 60 \n",
    "s = rem % 60\n",
    "print(f'{h} giờ {m} phút {s} giây')"
   ]
  },
  {
   "cell_type": "code",
   "execution_count": 12,
   "id": "f40b9c63",
   "metadata": {},
   "outputs": [
    {
     "name": "stdout",
     "output_type": "stream",
     "text": [
      "Điểm không thuộc đường tròn\n"
     ]
    }
   ],
   "source": [
    "#Bài 10\n",
    "a, b = map(float, input('Nhập vào lần lượt toạ độ x và y của tâm đường tròn:').split())\n",
    "x, y = map(float, input('Nhập vào lần lượt toạ độ x và y của một điểm bất kì:').split())\n",
    "r = float(input())\n",
    "if (x - a)**2 + (y - b)**2 == r**2 :\n",
    "    print('Điểm có thuộc đường tròn')\n",
    "else: \n",
    "    print('Điểm không thuộc đường tròn')"
   ]
  },
  {
   "cell_type": "code",
   "execution_count": 13,
   "id": "c70fa551",
   "metadata": {},
   "outputs": [
    {
     "name": "stdout",
     "output_type": "stream",
     "text": [
      "8.0\n"
     ]
    }
   ],
   "source": [
    "#Bài 11\n",
    "x, y = map(float, input().split())\n",
    "print (x**y)"
   ]
  },
  {
   "cell_type": "code",
   "execution_count": 14,
   "id": "5ae61fa3",
   "metadata": {},
   "outputs": [
    {
     "name": "stdout",
     "output_type": "stream",
     "text": [
      "8.0\n"
     ]
    }
   ],
   "source": [
    "#Bài 11 (cách 2)\n",
    "x,y = map(float, input().split())\n",
    "print(pow(x,y))"
   ]
  },
  {
   "cell_type": "code",
   "execution_count": 18,
   "id": "b7bc8160",
   "metadata": {},
   "outputs": [
    {
     "name": "stdout",
     "output_type": "stream",
     "text": [
      "8.0\n"
     ]
    }
   ],
   "source": [
    "#Bài 11 (cách 3 dùng cho số mũ nguyên)\n",
    "x = float(input())\n",
    "y = int(input())\n",
    "res = 1\n",
    "if y > 0:\n",
    "    for i in range(y):\n",
    "        res *= x\n",
    "elif y < 0:\n",
    "    for i in range(-y):\n",
    "        res *= x\n",
    "print(res)\n"
   ]
  }
 ],
 "metadata": {
  "kernelspec": {
   "display_name": "Python 3",
   "language": "python",
   "name": "python3"
  },
  "language_info": {
   "codemirror_mode": {
    "name": "ipython",
    "version": 3
   },
   "file_extension": ".py",
   "mimetype": "text/x-python",
   "name": "python",
   "nbconvert_exporter": "python",
   "pygments_lexer": "ipython3",
   "version": "3.13.7"
  }
 },
 "nbformat": 4,
 "nbformat_minor": 5
}
